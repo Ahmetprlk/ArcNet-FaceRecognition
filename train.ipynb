{
 "cells": [
  {
   "cell_type": "markdown",
   "metadata": {},
   "source": [
    "# 1. Baseline"
   ]
  },
  {
   "cell_type": "markdown",
   "metadata": {},
   "source": [
    "## Libraries"
   ]
  },
  {
   "cell_type": "code",
   "execution_count": null,
   "metadata": {},
   "outputs": [],
   "source": [
    "import os \n",
    "from pathlib import Path\n",
    "import tqdm \n",
    "from easydict import EasyDict\n",
    "import torch\n",
    "import torch.nn as nn\n",
    "import torch.optim as optim\n",
    "import torchvision.utils as vutils\n",
    "from torchvision import transforms \n",
    "\n",
    "from data.ms1m import get_train_loader\n",
    "from data.lfw import LFW\n",
    "from backbone.arcfacenet import SEResNet_IR\n",
    "from margin.ArcMarginProduct import ArcMarginProduct\n",
    "\n",
    "from util.utils import save_checkpoint ,test\n"
   ]
  },
  {
   "cell_type": "markdown",
   "metadata": {},
   "source": [
    "## Configuration"
   ]
  },
  {
   "cell_type": "code",
   "execution_count": null,
   "metadata": {},
   "outputs": [],
   "source": [
    "conf = EasyDict()\n",
    "conf.train_root=\"./dataset/MS1M\"\n",
    "conf.lfw_root=\"/dataset/lfw_aligned_112\"\n",
    "conf.lfw_file_list =\"./dataset/lfw_pair.txt\"\n",
    "\n",
    "conf.mode =\"se_ir\"\n",
    "conf.depth=50\n",
    "conf.margin_type = \"Arcface\"\n",
    "conf.feature_dim =512\n",
    "conf.scale_siz= 32.0\n",
    "conf.batch_size =96\n",
    "conf.lr =0.01\n",
    "conf.milestones =[8,10,12]\n",
    "conf.total_epoch = 10\n",
    "\n",
    "conf.save_folder =\"./saved\"\n",
    "conf.save_dir =os.path.join(conf.save_folder,conf.mode +\"_\" +str(conf.depth))\n",
    "                            "
   ]
  },
  {
   "cell_type": "markdown",
   "metadata": {},
   "source": [
    "## Data Loader"
   ]
  },
  {
   "cell_type": "code",
   "execution_count": null,
   "metadata": {},
   "outputs": [],
   "source": [
    "transform = transforms.Compose([\n",
    "    transforms.ToTensor(),\n",
    "    transforms.Normalize(mean=(0.5,0.5,0.5),std=(0.5,0.5,0.5))\n",
    "])\n",
    "trainloader,class_num = get_train_loader(conf)"
   ]
  },
  {
   "cell_type": "code",
   "execution_count": null,
   "metadata": {},
   "outputs": [],
   "source": [
    "import torch.utils\n",
    "import torch.utils.data\n",
    "\n",
    "\n",
    "lfw_dataset =LFW(conf.lfw_test_root,conf.lfw_file_list, transform=transform)\n",
    "lfwloader = torch.utils.data.DataLoader(lfw_dataset,batch_size=128,num_workers=conf.num_workers)"
   ]
  },
  {
   "cell_type": "markdown",
   "metadata": {},
   "source": [
    "# Model"
   ]
  },
  {
   "cell_type": "code",
   "execution_count": null,
   "metadata": {},
   "outputs": [],
   "source": [
    "model = SEResNet_IR(conf.depth, feature_dim=conf.feature_dim, mode=conf.mode).to(conf.device)\n",
    "margin = ArcMarginProduct(conf.feature_dim ,class_num).to(conf.device)"
   ]
  },
  {
   "cell_type": "code",
   "execution_count": null,
   "metadata": {},
   "outputs": [],
   "source": [
    "crt = nn.CrossEntropyLoss()"
   ]
  },
  {
   "cell_type": "code",
   "execution_count": null,
   "metadata": {
    "scrolled": true
   },
   "outputs": [],
   "source": [
    "optimizer =optim.SGD([\n",
    "    {'params':model.parameters, 'weight_decay':5e-4},\n",
    "    {'params':margin.parameters(),'weight_decay':5e-4}\n",
    "],lr=conf.lr, momentum=0.9, nesterov=True)"
   ]
  },
  {
   "cell_type": "code",
   "execution_count": null,
   "metadata": {},
   "outputs": [],
   "source": [
    "def lr():\n",
    "    for i in optimizer.param_groups:\n",
    "        i['lr'] /=10\n",
    "\n",
    "        print(optimizer)"
   ]
  },
  {
   "cell_type": "markdown",
   "metadata": {},
   "source": [
    "## Train"
   ]
  },
  {
   "cell_type": "code",
   "execution_count": null,
   "metadata": {},
   "outputs": [],
   "source": [
    "best_acc=0\n",
    "for i in range(1,conf.total_epoch+1):\n",
    "    model.train()\n",
    "    print('epochs{}/{}'.format(i,conf.total_epoch))\n",
    "\n",
    "    if i == conf.milestones[0]:\n",
    "        lr()\n",
    "    if i == conf.milestones[1]:\n",
    "        lr()\n",
    "    if i == conf.milestones[2]:\n",
    "        lr()\n",
    "\n",
    "    for data in tqdm(trainloader):\n",
    "        img,label = data[0],data[1]\n",
    "        optimizer.zero_grad()\n",
    "\n",
    "        logits =model(img)\n",
    "        output =margin(logits,label)\n",
    "        total_loss =crt(output,label)\n",
    "        total_loss.backward()\n",
    "        optimizer.step()\n",
    "    \n",
    "    model.eval()\n",
    "\n",
    "    lfw_acc =test(conf,model,lfw_dataset,lfwloader)\n",
    "\n",
    "    print(\"\\nLFW :{:.4f} | train_loss :{:.4f}\\n\".format(lfw_acc,total_loss.item()))\n",
    "\n",
    "    is_best =lfw_acc >best_acc\n",
    "    best_acc=max(lfw_acc,best_acc)\n",
    "\n",
    "    save_checkpoint({\n",
    "        'epoch':epoch,\n",
    "        'model_state_dict':model.state_dict(),\n",
    "        'margin_state_dict':margin.state_dict(),\n",
    "        'best_acc':best_acc\n",
    "    },is_best,checkpoint=conf.save_dir)"
   ]
  }
 ],
 "metadata": {
  "kernelspec": {
   "display_name": "Python 3",
   "language": "python",
   "name": "python3"
  },
  "language_info": {
   "codemirror_mode": {
    "name": "ipython",
    "version": 3
   },
   "file_extension": ".py",
   "mimetype": "text/x-python",
   "name": "python",
   "nbconvert_exporter": "python",
   "pygments_lexer": "ipython3",
   "version": "3.6.9"
  }
 },
 "nbformat": 4,
 "nbformat_minor": 4
}
